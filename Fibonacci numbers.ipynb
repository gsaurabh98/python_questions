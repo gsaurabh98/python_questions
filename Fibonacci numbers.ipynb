{
 "cells": [
  {
   "cell_type": "markdown",
   "metadata": {},
   "source": [
    "###    The Fibonacci numbers are the numbers in the following integer sequence.\n",
    "    0, 1, 1, 2, 3, 5, 8, 13, 21, 34, 55, 89, 144, …….."
   ]
  },
  {
   "cell_type": "markdown",
   "metadata": {},
   "source": [
    "###    In mathematical terms, the sequence Fn of Fibonacci numbers is defined by the recurrence relation \n",
    "\n",
    "    Fn = Fn-1 + Fn-2"
   ]
  },
  {
   "cell_type": "code",
   "execution_count": 5,
   "metadata": {},
   "outputs": [
    {
     "name": "stdout",
     "output_type": "stream",
     "text": [
      "5\n"
     ]
    }
   ],
   "source": [
    "n = int(input())"
   ]
  },
  {
   "cell_type": "code",
   "execution_count": 8,
   "metadata": {},
   "outputs": [],
   "source": [
    "def fibonacci(n): \n",
    "    a = 0\n",
    "    b = 1\n",
    "    if n < 0: \n",
    "        print(\"Incorrect input\") \n",
    "    elif n == 0: \n",
    "        return a \n",
    "    elif n == 1: \n",
    "        return b \n",
    "    else: \n",
    "        for i in range(2,n+1): \n",
    "            c = a + b \n",
    "            a = b \n",
    "            b = c \n",
    "        return b "
   ]
  },
  {
   "cell_type": "code",
   "execution_count": 9,
   "metadata": {},
   "outputs": [
    {
     "data": {
      "text/plain": [
       "5"
      ]
     },
     "execution_count": 9,
     "metadata": {},
     "output_type": "execute_result"
    }
   ],
   "source": [
    "fibonacci(n)"
   ]
  },
  {
   "cell_type": "code",
   "execution_count": 10,
   "metadata": {},
   "outputs": [
    {
     "name": "stdout",
     "output_type": "stream",
     "text": [
      "34\n"
     ]
    }
   ],
   "source": [
    "\n",
    "# Fibonacci Series using Dynamic Programming  \n",
    "def fibonacci(n):  \n",
    "      \n",
    "    # Taking 1st two fibonacci nubers as 0 and 1  \n",
    "    f = [0, 1]  \n",
    "      \n",
    "      \n",
    "    for i in range(2, n+1): \n",
    "        f.append(f[i-1] + f[i-2]) \n",
    "    return f[n] \n",
    "      \n",
    "print(fibonacci(9)) "
   ]
  },
  {
   "cell_type": "code",
   "execution_count": 11,
   "metadata": {},
   "outputs": [
    {
     "name": "stdout",
     "output_type": "stream",
     "text": [
      "34\n"
     ]
    }
   ],
   "source": [
    "# Function for nth Fibonacci number \n",
    "  \n",
    "def Fibonacci(n): \n",
    "    if n<0: \n",
    "        print(\"Incorrect input\") \n",
    "    # First Fibonacci number is 0 \n",
    "    elif n==0: \n",
    "        return 0\n",
    "    # Second Fibonacci number is 1 \n",
    "    elif n==1: \n",
    "        return 1\n",
    "    else: \n",
    "        return Fibonacci(n-1)+Fibonacci(n-2) \n",
    "  \n",
    "# Driver Program \n",
    "  \n",
    "print(Fibonacci(9)) "
   ]
  },
  {
   "cell_type": "code",
   "execution_count": 28,
   "metadata": {},
   "outputs": [
    {
     "name": "stdout",
     "output_type": "stream",
     "text": [
      "How many terms? 5\n",
      "Fibonacci sequence:\n",
      "0\n",
      "1\n",
      "1\n",
      "2\n",
      "3\n"
     ]
    }
   ],
   "source": [
    "## Program to display the Fibonacci sequence up to n-th term\n",
    "\n",
    "# first two terms\n",
    "\n",
    "nterms = int(input(\"How many terms? \"))\n",
    "\n",
    "n1, n2 = 0, 1\n",
    "count = 0\n",
    "\n",
    "# check if the number of terms is valid\n",
    "if nterms <= 0:\n",
    "    print(\"Please enter a positive integer\")\n",
    "elif nterms == 1:\n",
    "    print(\"Fibonacci sequence upto\",nterms,\":\")\n",
    "    print(n1)\n",
    "else:\n",
    "    print(\"Fibonacci sequence:\")\n",
    "    while count < nterms:\n",
    "        print(n1)\n",
    "        nth = n1 + n2\n",
    "        # update values\n",
    "        n1 = n2\n",
    "        n2 = nth\n",
    "        count += 1"
   ]
  },
  {
   "cell_type": "code",
   "execution_count": null,
   "metadata": {},
   "outputs": [],
   "source": []
  }
 ],
 "metadata": {
  "kernelspec": {
   "display_name": "Python 3",
   "language": "python",
   "name": "python3"
  },
  "language_info": {
   "codemirror_mode": {
    "name": "ipython",
    "version": 3
   },
   "file_extension": ".py",
   "mimetype": "text/x-python",
   "name": "python",
   "nbconvert_exporter": "python",
   "pygments_lexer": "ipython3",
   "version": "3.7.9"
  }
 },
 "nbformat": 4,
 "nbformat_minor": 4
}

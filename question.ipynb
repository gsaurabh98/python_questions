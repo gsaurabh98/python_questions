{
 "cells": [
  {
   "cell_type": "markdown",
   "metadata": {},
   "source": [
    "\n",
    "1. Write a Python Program to print Prime Numbers between 2 numbers\n",
    "2. Write a Sort function to sort the elements in a list\n",
    "3. Write a sorting function without using the list.sort function\n",
    "4. Write a Python program to print Fibonacci Series\n",
    "5. Write a Python program to print a list in reverse\n",
    "6. Write a Python program to check whether a string is a Palindrome or not \n",
    "7. Write a Python program to print set of duplicates in a list\n",
    "8. Write a Python program to print number of words in a given sentence\n",
    "9. Given an array arr[] of n elements, write a Python function to search a given element x in arr[].\n",
    "10. Write a Python program to implement a Binary Search\n",
    "11. Write a Python program to plot a simple bar chart\n",
    "12. Write a Python program to join two strings (Hint: using join())\n",
    "13. Write a Python program to extract digits from given string\n",
    "14. Write a Python program to split strings using newline delimiter\n",
    "15. Given a string as your input, delete any reoccurring character, and return the new string.\n",
    "    \n",
    "       https://www.youtube.com/watch?v=BCZWQTY9xPE&ab_channel=BharatiDWConsultancy\n",
    "       \n",
    "1. Write a function to reverse words in a paragraph in python?\n",
    "2. Given two sorted lists, write a python program to merge them?\n",
    "3. Write a python function to process a dataset process_me.csv which contain product reviews\n",
    "(sentences) and has the following columns:\n",
    "a. ID: unique ID of the review\n",
    "b. Review: text data\n",
    "    You are provided a dictionary that contains words and their corresponding sentiment score. Eg.\n",
    "    {\n",
    "    “Amazing”: 0.8,\n",
    "    “Pathetic”: -0.5\n",
    "    }\n",
    "    Process each review and remove the record where the cumulative sum of the review is negative\n",
    "    (or over sentence is of negative sentence) from the CSV.\n",
    "4. Write a python function to remove all occurrences of substring in a string.\n",
    "    a. Input will Substring and a String (sentence\n",
    "    b. Output will be String after removing substring\n",
    "5. Write a python program to extract IP addresses from a file?\n",
    "6. Write a python program to check if all digits of a number divide it?"
   ]
  },
  {
   "cell_type": "code",
   "execution_count": 1,
   "metadata": {},
   "outputs": [
    {
     "name": "stdout",
     "output_type": "stream",
     "text": [
      "101\n",
      "103\n",
      "107\n",
      "109\n",
      "113\n",
      "127\n",
      "131\n",
      "137\n",
      "139\n",
      "149\n",
      "151\n",
      "157\n",
      "163\n",
      "167\n",
      "173\n",
      "179\n",
      "181\n",
      "191\n",
      "193\n",
      "197\n",
      "199\n"
     ]
    }
   ],
   "source": [
    "for num in range(100, 200):\n",
    "    if all(num%i!=0 for i in range(2, num) ):\n",
    "        print(num)"
   ]
  },
  {
   "cell_type": "code",
   "execution_count": 2,
   "metadata": {
    "scrolled": false
   },
   "outputs": [
    {
     "data": {
      "text/plain": [
       "'hbaruas'"
      ]
     },
     "execution_count": 2,
     "metadata": {},
     "output_type": "execute_result"
    }
   ],
   "source": [
    "''.join(reversed('saurabh'))"
   ]
  },
  {
   "cell_type": "markdown",
   "metadata": {},
   "source": [
    "## 2. Given two sorted lists, write a python program to merge them?"
   ]
  },
  {
   "cell_type": "code",
   "execution_count": 14,
   "metadata": {},
   "outputs": [],
   "source": [
    "l1 = [1, 5, 6, 9, 11]\n",
    "l2 = [3, 4, 7, 8, 10]"
   ]
  },
  {
   "cell_type": "code",
   "execution_count": 15,
   "metadata": {},
   "outputs": [
    {
     "data": {
      "text/plain": [
       "[1, 3, 4, 5, 6, 7, 8, 9, 10, 11]"
      ]
     },
     "execution_count": 15,
     "metadata": {},
     "output_type": "execute_result"
    }
   ],
   "source": [
    "sorted(l1+ l2)"
   ]
  },
  {
   "cell_type": "code",
   "execution_count": 18,
   "metadata": {},
   "outputs": [],
   "source": [
    "new_list = []\n",
    "i = j = 0\n",
    "\n",
    "size_l1 = len(l1)\n",
    "size_l2 = len(l2)\n",
    "\n",
    "while i < size_l1 and j < size_l2:\n",
    "    if l1[i] < l2[j]:\n",
    "        new_list.append(l1[i])\n",
    "        i+=1\n",
    "    else:\n",
    "        new_list.append(l2[j])\n",
    "        j+=1\n",
    "# i and j would be last index\n",
    "new_list = new_list + l1[i:] + l2[j:]"
   ]
  },
  {
   "cell_type": "code",
   "execution_count": 19,
   "metadata": {},
   "outputs": [
    {
     "data": {
      "text/plain": [
       "[1, 3, 4, 5, 6, 7, 8, 9, 10, 11]"
      ]
     },
     "execution_count": 19,
     "metadata": {},
     "output_type": "execute_result"
    }
   ],
   "source": [
    "new_list"
   ]
  },
  {
   "cell_type": "markdown",
   "metadata": {},
   "source": [
    "## 3. Write a python function to process a dataset process_me.csv which contain product reviews\n",
    "    (sentences) and has the following columns:\n",
    "    a. ID: unique ID of the review\n",
    "    b. Review: text data\n",
    "    You are provided a dictionary that contains words and their corresponding sentiment score. Eg.\n",
    "    {\n",
    "    “Amazing”: 0.8,\n",
    "    “Pathetic”: -0.5\n",
    "    }\n",
    "    Process each review and remove the record where the cumulative sum of the review is negative\n",
    "    (or over sentence is of negative sentence) from the CSV."
   ]
  },
  {
   "cell_type": "code",
   "execution_count": null,
   "metadata": {},
   "outputs": [],
   "source": []
  },
  {
   "cell_type": "markdown",
   "metadata": {},
   "source": [
    "## 4. Write a python function to remove all occurrences of substring in a string.\n",
    "    a. Input will Substring and a String (sentence\n",
    "    b. Output will be String after removing substring"
   ]
  },
  {
   "cell_type": "code",
   "execution_count": 107,
   "metadata": {},
   "outputs": [
    {
     "data": {
      "text/plain": [
       "'i am  going to play'"
      ]
     },
     "execution_count": 107,
     "metadata": {},
     "output_type": "execute_result"
    }
   ],
   "source": [
    "'i am not going to play'.replace('not','')"
   ]
  },
  {
   "cell_type": "markdown",
   "metadata": {},
   "source": [
    "## 5. Write a python program to extract IP addresses from a file?"
   ]
  },
  {
   "cell_type": "code",
   "execution_count": 48,
   "metadata": {},
   "outputs": [
    {
     "data": {
      "text/plain": [
       "'198.168.0.1'"
      ]
     },
     "execution_count": 48,
     "metadata": {},
     "output_type": "execute_result"
    }
   ],
   "source": [
    "import re\n",
    "pattern = re.compile(r'(\\d{1,3}\\.\\d{1,3}\\.\\d{1,3}\\.\\d{1,3})')\n",
    "\n",
    "pattern.search('my ip is 198.168.0.1')[0]"
   ]
  },
  {
   "cell_type": "markdown",
   "metadata": {},
   "source": [
    "## 6. Write a python program to check if all digits of a number divide it?"
   ]
  },
  {
   "cell_type": "code",
   "execution_count": 101,
   "metadata": {},
   "outputs": [
    {
     "name": "stdout",
     "output_type": "stream",
     "text": [
      "Yes\n"
     ]
    }
   ],
   "source": [
    "# Function to check the divisibility of the number by its digit.\n",
    "def checkDivisibility(n, digit) :\n",
    "     \n",
    "    # If the digit divides the number then return true else return false.\n",
    "    return (digit != 0 and n % digit == 0)\n",
    "     \n",
    "# Function to check if all digits of n divide it or not\n",
    "def allDigitsDivide( n) :\n",
    "     \n",
    "    temp = n\n",
    "    while (temp > 0) :\n",
    "         \n",
    "        # Taking the digit of the number into digit var.\n",
    "        digit = temp % 10\n",
    "        if ((checkDivisibility(n, digit)) == False) :\n",
    "            return False\n",
    " \n",
    "        temp = temp // 10\n",
    "     \n",
    "    return True\n",
    "if (allDigitsDivide(n)) :\n",
    "    print(\"Yes\")\n",
    "else :\n",
    "    print(\"No\" )"
   ]
  },
  {
   "cell_type": "code",
   "execution_count": 100,
   "metadata": {},
   "outputs": [],
   "source": [
    "n = 128"
   ]
  },
  {
   "cell_type": "code",
   "execution_count": 84,
   "metadata": {},
   "outputs": [
    {
     "name": "stdout",
     "output_type": "stream",
     "text": [
      "no\n"
     ]
    }
   ],
   "source": [
    "l = []\n",
    "n = 121\n",
    "for i in str(n):\n",
    "    if int(i)!=0 and n%int(i)==0:\n",
    "        l.append(True)\n",
    "    else:\n",
    "        l.append(False)\n",
    "if all(l):\n",
    "    print(\"yes\")\n",
    "else:\n",
    "    print('no')"
   ]
  },
  {
   "cell_type": "code",
   "execution_count": 85,
   "metadata": {},
   "outputs": [
    {
     "data": {
      "text/plain": [
       "8"
      ]
     },
     "execution_count": 85,
     "metadata": {},
     "output_type": "execute_result"
    }
   ],
   "source": [
    "128%10"
   ]
  },
  {
   "cell_type": "code",
   "execution_count": null,
   "metadata": {},
   "outputs": [],
   "source": []
  }
 ],
 "metadata": {
  "kernelspec": {
   "display_name": "Python 3",
   "language": "python",
   "name": "python3"
  },
  "language_info": {
   "codemirror_mode": {
    "name": "ipython",
    "version": 3
   },
   "file_extension": ".py",
   "mimetype": "text/x-python",
   "name": "python",
   "nbconvert_exporter": "python",
   "pygments_lexer": "ipython3",
   "version": "3.7.9"
  }
 },
 "nbformat": 4,
 "nbformat_minor": 4
}

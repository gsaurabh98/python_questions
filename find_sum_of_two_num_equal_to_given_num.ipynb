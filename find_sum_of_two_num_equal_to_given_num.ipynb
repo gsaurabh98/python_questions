{
 "cells": [
  {
   "cell_type": "code",
   "execution_count": 46,
   "metadata": {},
   "outputs": [],
   "source": [
    "li=[11, 1, 2, 3, 10]\n",
    "num=21"
   ]
  },
  {
   "cell_type": "code",
   "execution_count": 47,
   "metadata": {},
   "outputs": [],
   "source": [
    "def check_sum(li, num):\n",
    "    x = []\n",
    "    for i in li:\n",
    "        for j in li:\n",
    "            x.append(i+j)\n",
    "            \n",
    "    print('xxxxxxx',x)\n",
    "    if num in x:\n",
    "        return True\n",
    "    else:\n",
    "        return False"
   ]
  },
  {
   "cell_type": "code",
   "execution_count": 48,
   "metadata": {},
   "outputs": [
    {
     "name": "stdout",
     "output_type": "stream",
     "text": [
      "xxxxxxx [22, 12, 13, 14, 21, 12, 2, 3, 4, 11, 13, 3, 4, 5, 12, 14, 4, 5, 6, 13, 21, 11, 12, 13, 20]\n"
     ]
    },
    {
     "data": {
      "text/plain": [
       "True"
      ]
     },
     "execution_count": 48,
     "metadata": {},
     "output_type": "execute_result"
    }
   ],
   "source": [
    "check_sum(li, num)"
   ]
  },
  {
   "cell_type": "code",
   "execution_count": 49,
   "metadata": {},
   "outputs": [],
   "source": [
    "def fun(li, num):\n",
    "    for i in li:\n",
    "        if num-i in li:\n",
    "            return True\n",
    "        else:\n",
    "            return False"
   ]
  },
  {
   "cell_type": "code",
   "execution_count": 50,
   "metadata": {},
   "outputs": [
    {
     "data": {
      "text/plain": [
       "True"
      ]
     },
     "execution_count": 50,
     "metadata": {},
     "output_type": "execute_result"
    }
   ],
   "source": [
    "fun(li, num)"
   ]
  },
  {
   "cell_type": "code",
   "execution_count": 60,
   "metadata": {},
   "outputs": [],
   "source": [
    "def replace_latest_slice(query=None):\n",
    "    import re\n",
    "    return re.sub('latest_slice::', '(SELECT * FROM sale_order WHERE ds = \"LATEST\")', query)"
   ]
  },
  {
   "cell_type": "code",
   "execution_count": 61,
   "metadata": {},
   "outputs": [
    {
     "data": {
      "text/plain": [
       "'SELECT * FROM (SELECT * FROM sale_order WHERE ds = \"LATEST\")sale_order so INNER JOIN (SELECT * FROM sale_order WHERE ds = \"LATEST\")res_partner rp ON so.id = rp.id'"
      ]
     },
     "execution_count": 61,
     "metadata": {},
     "output_type": "execute_result"
    }
   ],
   "source": [
    "replace_latest_slice(query=\"\"\"SELECT * FROM latest_slice::sale_order so INNER JOIN latest_slice::res_partner rp ON so.id = rp.id\"\"\")"
   ]
  },
  {
   "cell_type": "code",
   "execution_count": 62,
   "metadata": {},
   "outputs": [],
   "source": [
    "query=\"\"\"SELECT * FROM latest_slice::sale_order so INNER JOIN latest_slice::res_partner rp ON so.id = rp.id\"\"\""
   ]
  },
  {
   "cell_type": "code",
   "execution_count": 63,
   "metadata": {},
   "outputs": [
    {
     "data": {
      "text/plain": [
       "'SELECT * FROM latest_slice::sale_order so INNER JOIN latest_slice::res_partner rp ON so.id = rp.id'"
      ]
     },
     "execution_count": 63,
     "metadata": {},
     "output_type": "execute_result"
    }
   ],
   "source": [
    "query"
   ]
  },
  {
   "cell_type": "code",
   "execution_count": 66,
   "metadata": {},
   "outputs": [
    {
     "data": {
      "text/plain": [
       "['SELECT * FROM latest_slice',\n",
       " 'sale_order so INNER JOIN latest_slice',\n",
       " 'res_partner rp ON so.id = rp.id']"
      ]
     },
     "execution_count": 66,
     "metadata": {},
     "output_type": "execute_result"
    }
   ],
   "source": [
    "query.split('::', )"
   ]
  },
  {
   "cell_type": "code",
   "execution_count": 71,
   "metadata": {},
   "outputs": [],
   "source": [
    "from datetime import *\n",
    "import re"
   ]
  },
  {
   "cell_type": "code",
   "execution_count": 74,
   "metadata": {},
   "outputs": [],
   "source": [
    "def find_date_from_text(texts: list) -> list:\n",
    "    dateCandidates = []\n",
    "    for text in texts:\n",
    "        pattern = re.compile(r'\\d{1,2}([\\-\\/\\._\\W]+)\\d{1,2}([\\-\\/\\._\\W]+)\\d{4}')\n",
    "        dateCandidates += find_date_using_pattern(pattern, text)\n",
    "    return dateCandidates"
   ]
  },
  {
   "cell_type": "code",
   "execution_count": 99,
   "metadata": {},
   "outputs": [],
   "source": [
    "def find_date_using_pattern(pattern, text):\n",
    "    dateCandidates = []\n",
    "    for match in pattern.finditer(text):\n",
    "        cleaned = re.sub(r'[^0-9]', ' ', match.group())\n",
    "        d, m, y = cleaned.split()        \n",
    "        dateCandidates.append(datetime(int(y), int(m), int(d), 0, 0, 0).date())\n",
    "    return dateCandidates"
   ]
  },
  {
   "cell_type": "code",
   "execution_count": 101,
   "metadata": {},
   "outputs": [
    {
     "data": {
      "text/plain": [
       "[datetime.date(1992, 2, 23), datetime.date(2001, 1, 19)]"
      ]
     },
     "execution_count": 101,
     "metadata": {},
     "output_type": "execute_result"
    }
   ],
   "source": [
    "find_date_from_text(['Had a friend open up to me about his mental addiction to weed and  23/02/1992', 'ow it was taking over 19-01-2001 his life and making him depressed'])"
   ]
  }
 ],
 "metadata": {
  "kernelspec": {
   "display_name": "Python 3",
   "language": "python",
   "name": "python3"
  },
  "language_info": {
   "codemirror_mode": {
    "name": "ipython",
    "version": 3
   },
   "file_extension": ".py",
   "mimetype": "text/x-python",
   "name": "python",
   "nbconvert_exporter": "python",
   "pygments_lexer": "ipython3",
   "version": "3.7.9"
  }
 },
 "nbformat": 4,
 "nbformat_minor": 5
}

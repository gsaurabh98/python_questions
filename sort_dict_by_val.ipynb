{
 "cells": [
  {
   "cell_type": "code",
   "execution_count": 54,
   "metadata": {},
   "outputs": [],
   "source": [
    "d = {\"saurabh\": 10, \"pratyush\": 50, \"rahul\": 200, \"deepak\": 150, \"abhishek\": 100}"
   ]
  },
  {
   "cell_type": "code",
   "execution_count": 55,
   "metadata": {},
   "outputs": [
    {
     "data": {
      "text/plain": [
       "[('rahul', 200),\n",
       " ('deepak', 150),\n",
       " ('abhishek', 100),\n",
       " ('pratyush', 50),\n",
       " ('saurabh', 10)]"
      ]
     },
     "execution_count": 55,
     "metadata": {},
     "output_type": "execute_result"
    }
   ],
   "source": [
    "x = [(k,v) for k, v in sorted(d.items(), key = lambda item: item[1], reverse=True)]\n",
    "x"
   ]
  },
  {
   "cell_type": "code",
   "execution_count": 57,
   "metadata": {},
   "outputs": [],
   "source": [
    "from collections import OrderedDict"
   ]
  },
  {
   "cell_type": "code",
   "execution_count": 60,
   "metadata": {},
   "outputs": [
    {
     "data": {
      "text/plain": [
       "OrderedDict([('rahul', 200),\n",
       "             ('deepak', 150),\n",
       "             ('abhishek', 100),\n",
       "             ('pratyush', 50),\n",
       "             ('saurabh', 10)])"
      ]
     },
     "execution_count": 60,
     "metadata": {},
     "output_type": "execute_result"
    }
   ],
   "source": [
    "OrderedDict(x)"
   ]
  },
  {
   "cell_type": "code",
   "execution_count": 61,
   "metadata": {},
   "outputs": [],
   "source": [
    "m = {'\\nThose Who Are Resilient Stay In The Game Longer\\n“On the mountains of truth you can never climb in vain: either you will reach a point higher up today, or you will be training your powers so that you will be able to climb higher tomorrow.”\\u200a—\\u200aFriedrich Nietzsche\\nChallenges and setbacks are not meant to defeat you, but promote you.': 0.04666694905011801, 'However, I realise after many years of defeats, it can crush your spirit and it is easier to give up than risk further setbacks and disappointments.': 0.08277857501995935, 'Have you experienced this before?': 0.31973908422081226, 'To be honest, I don’t have the answers.': 0.12767276994740473, 'I can’t tell you what the right course of action is; only you will know.': 0.10792155929710112, 'However, it’s important not to be discouraged by failure when pursuing a goal or a dream, since failure itself means different things to different people.': 0.08603651583299746, 'To a person with a Fixed Mindset failure is a blow to their self-esteem, yet to a person with a Growth Mindset, it’s an opportunity to improve and find new ways to overcome their obstacles.': 0.07811522367105289, 'Same failure, yet different responses.': 0.16175732256921063, 'Who is right and who is wrong?': 0.4112057777291309, 'Neither.': 0.4446985433735637, 'Each person has a different mindset that decides their outcome.': 0.17094978895160579, 'Those who are resilient stay in the game longer and draw on their inner means to succeed.': 0.1408716831756326, 'I’ve coached many clients who gave up after many years toiling away at their respective goal or dream.': 0.10044336134244804, 'It was at that point their biggest breakthrough came.': 0.18683042671453726, 'Perhaps all those years of perseverance finally paid off.': 0.2149921544733752, 'It was the 19th Century’s minister Henry Ward Beecher who once said: “One’s best success comes after their greatest disappointments.” No one knows what the future holds, so your only guide is whether you can endure repeated defeats and disappointments and still pursue your dream.': 0.038294903099993234, 'Consider the advice from the American academic and psychologist Angela Duckworth who writes in Grit: The Power of Passion and Perseverance: “Many of us, it seems, quit what we start far too early and far too often.': 0.06407040138894513, 'Even more than the effort a gritty person puts in on a single day, what matters is that they wake up the next day, and the next, ready to get on that treadmill and keep going.”\\nI know one thing for certain: don’t settle for less than what you’re capable of, but strive for something bigger.': 0.04764829658530877, 'Some of you reading this might identify with this message because it resonates with you on a deeper level.': 0.14462401782784237, 'For others, at the end of their tether the message might be nothing more than a trivial pep talk.': 0.13562338250422484, 'What I wish to convey irrespective of where you are in your journey is: NEVER settle for less.': 0.11871337175757737, 'If you settle for less, you will receive less than you deserve and convince yourself you are justified to receive it.': 0.1511718251675349, '“Two people on a precipice over Yosemite Valley” by Nathan Shipps on Unsplash\\nDevelop A Powerful Vision Of What You Want\\n“Your problem is to bridge the gap which exists between where you are now and the goal you intend to reach.”\\u200a—\\u200aEarl Nightingale\\nI recall a passage my father often used growing up in 1990s: “Don’t tell me your problems unless you’ve spent weeks trying to solve them yourself.” That advice has echoed in my mind for decades and became my motivator.': 0.03060146458840255, 'Don’t leave it to other people or outside circumstances to motivate you because you will be let down every time.': 0.1076945290795475, 'It must come from within you.': 0.22890736886970914, 'Gnaw away at your problems until you solve them or find a solution.': 0.18068695741527235, 'Problems are not stop signs, they are advising you that more work is required to overcome them.': 0.1351017891332807, 'Most times, problems help you gain a skill or develop the resources to succeed later.': 0.10594172815122352, 'So embrace your challenges and develop the grit to push past them instead of retreat in resignation.': 0.12844283494902362, 'Where are you settling in your life right now?': 0.25118220840780875, 'Could you be you playing for bigger stakes than you are?': 0.2782706971110438, 'Are you willing to play bigger even if it means repeated failures and setbacks?': 0.14768070226414295, 'You should ask yourself these questions to decide whether you’re willing to put yourself on the line or settle for less.': 0.11320429706877155, 'And that’s fine if you’re content to receive less, as long as you’re not regretful later.': 0.11825682488957016, 'If you have not achieved the success you deserve and are considering giving up, will you regret it in a few years or decades from now?': 0.10829904822131238, 'Only you can answer that, but you should carve out time to discover your motivation for pursuing your goals.': 0.11352823235879847, 'It’s a fact, if you don’t know what you want you’ll get what life hands you and it may not be in your best interest, affirms author Larry Weidel: “Winners know that if you don’t figure out what you want, you’ll get whatever life hands you.” The key is to develop a powerful vision of what you want and hold that image in your mind.': 0.05298480838505694, 'Nurture it daily and give it life by taking purposeful action towards it.': 0.1371552634760773, 'Vision + desire + dedication + patience + daily action leads to astonishing success.': 0.16873216353448361, 'Are you willing to commit to this way of life or jump ship at the first sign of failure?': 0.1341184540934179, 'I’m amused when I read questions written by millennials on Quora who ask how they can become rich and famous or the next Elon Musk.': 0.08876952378557064, 'Success is a fickle and long game with highs and lows.': 0.1776652730182226, 'Similarly, there are no assurances even if you’re an overnight sensation, to sustain it for long, particularly if you don’t have the mental and emotional means to endure it.': 0.09130696515008564, 'This means you must rely on the one true constant in your favour: your personal development.': 0.10122461899368797, 'The more you grow, the more you gain in terms of financial resources, status, success\\u200a—\\u200asimple.': 0.12023455921456859, 'If you leave it to outside conditions to dictate your circumstances, you are rolling the dice on your future.': 0.11589313296656173, 'So become intentional on what you want out of life.': 0.18721437669559746, 'Commit to it.': 0.36944104445756837, 'Nurture your dreams.': 0.2684018078979365, 'Focus on your development and if you want to give up, know what’s involved before you take the plunge.': 0.0910346091504206, 'Because I assure you, someone out there right now is working harder than you, reading more books, sleeping less and sacrificing all they have to realise their dreams and it may contest with yours.': 0.07212536673711173, 'Don’t leave your dreams to chance.': 0.17869646866557684}"
   ]
  },
  {
   "cell_type": "code",
   "execution_count": 68,
   "metadata": {},
   "outputs": [
    {
     "data": {
      "text/plain": [
       "False"
      ]
     },
     "execution_count": 68,
     "metadata": {},
     "output_type": "execute_result"
    }
   ],
   "source": [
    "'Have you experienced this before? Same failure, yet different responses'.lower() in m"
   ]
  },
  {
   "cell_type": "code",
   "execution_count": 65,
   "metadata": {},
   "outputs": [],
   "source": [
    "n = [(k,v) for k, v in sorted(m.items(), key = lambda item: item[1], reverse=True)]\n"
   ]
  },
  {
   "cell_type": "code",
   "execution_count": 66,
   "metadata": {},
   "outputs": [
    {
     "name": "stdout",
     "output_type": "stream",
     "text": [
      "0.4446985433735637\n",
      "0.4112057777291309\n",
      "0.36944104445756837\n",
      "0.31973908422081226\n",
      "0.2782706971110438\n",
      "0.2684018078979365\n",
      "0.25118220840780875\n",
      "0.22890736886970914\n",
      "0.2149921544733752\n",
      "0.18721437669559746\n",
      "0.18683042671453726\n",
      "0.18068695741527235\n",
      "0.17869646866557684\n",
      "0.1776652730182226\n",
      "0.17094978895160579\n",
      "0.16873216353448361\n",
      "0.16175732256921063\n",
      "0.1511718251675349\n",
      "0.14768070226414295\n",
      "0.14462401782784237\n",
      "0.1408716831756326\n",
      "0.1371552634760773\n",
      "0.13562338250422484\n",
      "0.1351017891332807\n",
      "0.1341184540934179\n",
      "0.12844283494902362\n",
      "0.12767276994740473\n",
      "0.12023455921456859\n",
      "0.11871337175757737\n",
      "0.11825682488957016\n",
      "0.11589313296656173\n",
      "0.11352823235879847\n",
      "0.11320429706877155\n",
      "0.10829904822131238\n",
      "0.10792155929710112\n",
      "0.1076945290795475\n",
      "0.10594172815122352\n",
      "0.10122461899368797\n",
      "0.10044336134244804\n",
      "0.09130696515008564\n",
      "0.0910346091504206\n",
      "0.08876952378557064\n",
      "0.08603651583299746\n",
      "0.08277857501995935\n",
      "0.07811522367105289\n",
      "0.07212536673711173\n",
      "0.06407040138894513\n",
      "0.05298480838505694\n",
      "0.04764829658530877\n",
      "0.04666694905011801\n",
      "0.038294903099993234\n",
      "0.03060146458840255\n"
     ]
    }
   ],
   "source": [
    "for i, v in n:\n",
    "    print(v)"
   ]
  },
  {
   "cell_type": "code",
   "execution_count": 70,
   "metadata": {},
   "outputs": [
    {
     "data": {
      "text/plain": [
       "[('Neither.', 0.4446985433735637),\n",
       " ('Who is right and who is wrong?', 0.4112057777291309),\n",
       " ('Commit to it.', 0.36944104445756837),\n",
       " ('Have you experienced this before?', 0.31973908422081226),\n",
       " ('Could you be you playing for bigger stakes than you are?',\n",
       "  0.2782706971110438),\n",
       " ('Nurture your dreams.', 0.2684018078979365),\n",
       " ('Where are you settling in your life right now?', 0.25118220840780875),\n",
       " ('It must come from within you.', 0.22890736886970914),\n",
       " ('Perhaps all those years of perseverance finally paid off.',\n",
       "  0.2149921544733752),\n",
       " ('So become intentional on what you want out of life.', 0.18721437669559746),\n",
       " ('It was at that point their biggest breakthrough came.',\n",
       "  0.18683042671453726),\n",
       " ('Gnaw away at your problems until you solve them or find a solution.',\n",
       "  0.18068695741527235),\n",
       " ('Don’t leave your dreams to chance.', 0.17869646866557684),\n",
       " ('Success is a fickle and long game with highs and lows.',\n",
       "  0.1776652730182226),\n",
       " ('Each person has a different mindset that decides their outcome.',\n",
       "  0.17094978895160579),\n",
       " ('Vision + desire + dedication + patience + daily action leads to astonishing success.',\n",
       "  0.16873216353448361),\n",
       " ('Same failure, yet different responses.', 0.16175732256921063),\n",
       " ('If you settle for less, you will receive less than you deserve and convince yourself you are justified to receive it.',\n",
       "  0.1511718251675349),\n",
       " ('Are you willing to play bigger even if it means repeated failures and setbacks?',\n",
       "  0.14768070226414295),\n",
       " ('Some of you reading this might identify with this message because it resonates with you on a deeper level.',\n",
       "  0.14462401782784237),\n",
       " ('Those who are resilient stay in the game longer and draw on their inner means to succeed.',\n",
       "  0.1408716831756326),\n",
       " ('Nurture it daily and give it life by taking purposeful action towards it.',\n",
       "  0.1371552634760773),\n",
       " ('For others, at the end of their tether the message might be nothing more than a trivial pep talk.',\n",
       "  0.13562338250422484),\n",
       " ('Problems are not stop signs, they are advising you that more work is required to overcome them.',\n",
       "  0.1351017891332807),\n",
       " ('Are you willing to commit to this way of life or jump ship at the first sign of failure?',\n",
       "  0.1341184540934179),\n",
       " ('So embrace your challenges and develop the grit to push past them instead of retreat in resignation.',\n",
       "  0.12844283494902362),\n",
       " ('To be honest, I don’t have the answers.', 0.12767276994740473),\n",
       " ('The more you grow, the more you gain in terms of financial resources, status, success\\u200a—\\u200asimple.',\n",
       "  0.12023455921456859),\n",
       " ('What I wish to convey irrespective of where you are in your journey is: NEVER settle for less.',\n",
       "  0.11871337175757737),\n",
       " ('And that’s fine if you’re content to receive less, as long as you’re not regretful later.',\n",
       "  0.11825682488957016),\n",
       " ('If you leave it to outside conditions to dictate your circumstances, you are rolling the dice on your future.',\n",
       "  0.11589313296656173),\n",
       " ('Only you can answer that, but you should carve out time to discover your motivation for pursuing your goals.',\n",
       "  0.11352823235879847),\n",
       " ('You should ask yourself these questions to decide whether you’re willing to put yourself on the line or settle for less.',\n",
       "  0.11320429706877155),\n",
       " ('If you have not achieved the success you deserve and are considering giving up, will you regret it in a few years or decades from now?',\n",
       "  0.10829904822131238),\n",
       " ('I can’t tell you what the right course of action is; only you will know.',\n",
       "  0.10792155929710112),\n",
       " ('Don’t leave it to other people or outside circumstances to motivate you because you will be let down every time.',\n",
       "  0.1076945290795475),\n",
       " ('Most times, problems help you gain a skill or develop the resources to succeed later.',\n",
       "  0.10594172815122352),\n",
       " ('This means you must rely on the one true constant in your favour: your personal development.',\n",
       "  0.10122461899368797),\n",
       " ('I’ve coached many clients who gave up after many years toiling away at their respective goal or dream.',\n",
       "  0.10044336134244804),\n",
       " ('Similarly, there are no assurances even if you’re an overnight sensation, to sustain it for long, particularly if you don’t have the mental and emotional means to endure it.',\n",
       "  0.09130696515008564),\n",
       " ('Focus on your development and if you want to give up, know what’s involved before you take the plunge.',\n",
       "  0.0910346091504206),\n",
       " ('I’m amused when I read questions written by millennials on Quora who ask how they can become rich and famous or the next Elon Musk.',\n",
       "  0.08876952378557064),\n",
       " ('However, it’s important not to be discouraged by failure when pursuing a goal or a dream, since failure itself means different things to different people.',\n",
       "  0.08603651583299746),\n",
       " ('However, I realise after many years of defeats, it can crush your spirit and it is easier to give up than risk further setbacks and disappointments.',\n",
       "  0.08277857501995935),\n",
       " ('To a person with a Fixed Mindset failure is a blow to their self-esteem, yet to a person with a Growth Mindset, it’s an opportunity to improve and find new ways to overcome their obstacles.',\n",
       "  0.07811522367105289),\n",
       " ('Because I assure you, someone out there right now is working harder than you, reading more books, sleeping less and sacrificing all they have to realise their dreams and it may contest with yours.',\n",
       "  0.07212536673711173),\n",
       " ('Consider the advice from the American academic and psychologist Angela Duckworth who writes in Grit: The Power of Passion and Perseverance: “Many of us, it seems, quit what we start far too early and far too often.',\n",
       "  0.06407040138894513),\n",
       " ('It’s a fact, if you don’t know what you want you’ll get what life hands you and it may not be in your best interest, affirms author Larry Weidel: “Winners know that if you don’t figure out what you want, you’ll get whatever life hands you.” The key is to develop a powerful vision of what you want and hold that image in your mind.',\n",
       "  0.05298480838505694),\n",
       " ('Even more than the effort a gritty person puts in on a single day, what matters is that they wake up the next day, and the next, ready to get on that treadmill and keep going.”\\nI know one thing for certain: don’t settle for less than what you’re capable of, but strive for something bigger.',\n",
       "  0.04764829658530877),\n",
       " ('\\nThose Who Are Resilient Stay In The Game Longer\\n“On the mountains of truth you can never climb in vain: either you will reach a point higher up today, or you will be training your powers so that you will be able to climb higher tomorrow.”\\u200a—\\u200aFriedrich Nietzsche\\nChallenges and setbacks are not meant to defeat you, but promote you.',\n",
       "  0.04666694905011801),\n",
       " ('It was the 19th Century’s minister Henry Ward Beecher who once said: “One’s best success comes after their greatest disappointments.” No one knows what the future holds, so your only guide is whether you can endure repeated defeats and disappointments and still pursue your dream.',\n",
       "  0.038294903099993234),\n",
       " ('“Two people on a precipice over Yosemite Valley” by Nathan Shipps on Unsplash\\nDevelop A Powerful Vision Of What You Want\\n“Your problem is to bridge the gap which exists between where you are now and the goal you intend to reach.”\\u200a—\\u200aEarl Nightingale\\nI recall a passage my father often used growing up in 1990s: “Don’t tell me your problems unless you’ve spent weeks trying to solve them yourself.” That advice has echoed in my mind for decades and became my motivator.',\n",
       "  0.03060146458840255)]"
      ]
     },
     "execution_count": 70,
     "metadata": {},
     "output_type": "execute_result"
    }
   ],
   "source": [
    "[('Neither.', 0.4446985433735637), ('Who is right and who is wrong?', 0.4112057777291309), ('Commit to it.', 0.36944104445756837), ('Have you experienced this before?', 0.31973908422081226), ('Could you be you playing for bigger stakes than you are?', 0.2782706971110438), ('Nurture your dreams.', 0.2684018078979365), ('Where are you settling in your life right now?', 0.25118220840780875), ('It must come from within you.', 0.22890736886970914), ('Perhaps all those years of perseverance finally paid off.', 0.2149921544733752), ('So become intentional on what you want out of life.', 0.18721437669559746), ('It was at that point their biggest breakthrough came.', 0.18683042671453726), ('Gnaw away at your problems until you solve them or find a solution.', 0.18068695741527235), ('Don’t leave your dreams to chance.', 0.17869646866557684), ('Success is a fickle and long game with highs and lows.', 0.1776652730182226), ('Each person has a different mindset that decides their outcome.', 0.17094978895160579), ('Vision + desire + dedication + patience + daily action leads to astonishing success.', 0.16873216353448361), ('Same failure, yet different responses.', 0.16175732256921063), ('If you settle for less, you will receive less than you deserve and convince yourself you are justified to receive it.', 0.1511718251675349), ('Are you willing to play bigger even if it means repeated failures and setbacks?', 0.14768070226414295), ('Some of you reading this might identify with this message because it resonates with you on a deeper level.', 0.14462401782784237), ('Those who are resilient stay in the game longer and draw on their inner means to succeed.', 0.1408716831756326), ('Nurture it daily and give it life by taking purposeful action towards it.', 0.1371552634760773), ('For others, at the end of their tether the message might be nothing more than a trivial pep talk.', 0.13562338250422484), ('Problems are not stop signs, they are advising you that more work is required to overcome them.', 0.1351017891332807), ('Are you willing to commit to this way of life or jump ship at the first sign of failure?', 0.1341184540934179), ('So embrace your challenges and develop the grit to push past them instead of retreat in resignation.', 0.12844283494902362), ('To be honest, I don’t have the answers.', 0.12767276994740473), ('The more you grow, the more you gain in terms of financial resources, status, success\\u200a—\\u200asimple.', 0.12023455921456859), ('What I wish to convey irrespective of where you are in your journey is: NEVER settle for less.', 0.11871337175757737), ('And that’s fine if you’re content to receive less, as long as you’re not regretful later.', 0.11825682488957016), ('If you leave it to outside conditions to dictate your circumstances, you are rolling the dice on your future.', 0.11589313296656173), ('Only you can answer that, but you should carve out time to discover your motivation for pursuing your goals.', 0.11352823235879847), ('You should ask yourself these questions to decide whether you’re willing to put yourself on the line or settle for less.', 0.11320429706877155), ('If you have not achieved the success you deserve and are considering giving up, will you regret it in a few years or decades from now?', 0.10829904822131238), ('I can’t tell you what the right course of action is; only you will know.', 0.10792155929710112), ('Don’t leave it to other people or outside circumstances to motivate you because you will be let down every time.', 0.1076945290795475), ('Most times, problems help you gain a skill or develop the resources to succeed later.', 0.10594172815122352), ('This means you must rely on the one true constant in your favour: your personal development.', 0.10122461899368797), ('I’ve coached many clients who gave up after many years toiling away at their respective goal or dream.', 0.10044336134244804), ('Similarly, there are no assurances even if you’re an overnight sensation, to sustain it for long, particularly if you don’t have the mental and emotional means to endure it.', 0.09130696515008564), ('Focus on your development and if you want to give up, know what’s involved before you take the plunge.', 0.0910346091504206), ('I’m amused when I read questions written by millennials on Quora who ask how they can become rich and famous or the next Elon Musk.', 0.08876952378557064), ('However, it’s important not to be discouraged by failure when pursuing a goal or a dream, since failure itself means different things to different people.', 0.08603651583299746), ('However, I realise after many years of defeats, it can crush your spirit and it is easier to give up than risk further setbacks and disappointments.', 0.08277857501995935), ('To a person with a Fixed Mindset failure is a blow to their self-esteem, yet to a person with a Growth Mindset, it’s an opportunity to improve and find new ways to overcome their obstacles.', 0.07811522367105289), ('Because I assure you, someone out there right now is working harder than you, reading more books, sleeping less and sacrificing all they have to realise their dreams and it may contest with yours.', 0.07212536673711173), ('Consider the advice from the American academic and psychologist Angela Duckworth who writes in Grit: The Power of Passion and Perseverance: “Many of us, it seems, quit what we start far too early and far too often.', 0.06407040138894513), ('It’s a fact, if you don’t know what you want you’ll get what life hands you and it may not be in your best interest, affirms author Larry Weidel: “Winners know that if you don’t figure out what you want, you’ll get whatever life hands you.” The key is to develop a powerful vision of what you want and hold that image in your mind.', 0.05298480838505694), ('Even more than the effort a gritty person puts in on a single day, what matters is that they wake up the next day, and the next, ready to get on that treadmill and keep going.”\\nI know one thing for certain: don’t settle for less than what you’re capable of, but strive for something bigger.', 0.04764829658530877), ('\\nThose Who Are Resilient Stay In The Game Longer\\n“On the mountains of truth you can never climb in vain: either you will reach a point higher up today, or you will be training your powers so that you will be able to climb higher tomorrow.”\\u200a—\\u200aFriedrich Nietzsche\\nChallenges and setbacks are not meant to defeat you, but promote you.', 0.04666694905011801), ('It was the 19th Century’s minister Henry Ward Beecher who once said: “One’s best success comes after their greatest disappointments.” No one knows what the future holds, so your only guide is whether you can endure repeated defeats and disappointments and still pursue your dream.', 0.038294903099993234), ('“Two people on a precipice over Yosemite Valley” by Nathan Shipps on Unsplash\\nDevelop A Powerful Vision Of What You Want\\n“Your problem is to bridge the gap which exists between where you are now and the goal you intend to reach.”\\u200a—\\u200aEarl Nightingale\\nI recall a passage my father often used growing up in 1990s: “Don’t tell me your problems unless you’ve spent weeks trying to solve them yourself.” That advice has echoed in my mind for decades and became my motivator.', 0.03060146458840255)]"
   ]
  },
  {
   "cell_type": "code",
   "execution_count": null,
   "metadata": {},
   "outputs": [],
   "source": []
  }
 ],
 "metadata": {
  "kernelspec": {
   "display_name": "Python 3",
   "language": "python",
   "name": "python3"
  },
  "language_info": {
   "codemirror_mode": {
    "name": "ipython",
    "version": 3
   },
   "file_extension": ".py",
   "mimetype": "text/x-python",
   "name": "python",
   "nbconvert_exporter": "python",
   "pygments_lexer": "ipython3",
   "version": "3.7.9"
  }
 },
 "nbformat": 4,
 "nbformat_minor": 4
}

{
 "cells": [
  {
   "cell_type": "code",
   "execution_count": 13,
   "metadata": {},
   "outputs": [
    {
     "name": "stdout",
     "output_type": "stream",
     "text": [
      "1\n",
      "2\n",
      "3 :fizz\n",
      "4\n",
      "5 :buzz\n",
      "6 :fizz\n",
      "7\n",
      "8\n",
      "9 :fizz\n",
      "10 :buzz\n",
      "11\n",
      "12 :fizz\n",
      "13\n",
      "14\n",
      "15 :fizzbuzz\n",
      "16\n",
      "17\n",
      "18 :fizz\n",
      "19\n",
      "20 :buzz\n",
      "21 :fizz\n",
      "22\n",
      "23\n",
      "24 :fizz\n",
      "25 :buzz\n",
      "26\n",
      "27 :fizz\n",
      "28\n",
      "29\n",
      "30 :fizzbuzz\n",
      "31\n",
      "32\n",
      "33 :fizz\n",
      "34\n",
      "35 :buzz\n",
      "36 :fizz\n",
      "37\n",
      "38\n",
      "39 :fizz\n",
      "40 :buzz\n",
      "41\n",
      "42 :fizz\n",
      "43\n",
      "44\n",
      "45 :fizzbuzz\n",
      "46\n",
      "47\n",
      "48 :fizz\n",
      "49\n",
      "50 :buzz\n"
     ]
    }
   ],
   "source": [
    "for i in range(1, 51):\n",
    "    if i%5 == 0 and i%3 == 0:\n",
    "        print(i,':fizzbuzz')\n",
    "    elif i%5==0:\n",
    "        print(i,':buzz')\n",
    "    elif i%3 == 0:\n",
    "        print(i,':fizz')\n",
    "    else:\n",
    "        print(i)"
   ]
  },
  {
   "cell_type": "code",
   "execution_count": 4,
   "metadata": {
    "scrolled": false
   },
   "outputs": [
    {
     "name": "stdout",
     "output_type": "stream",
     "text": [
      "15\n",
      "1\n",
      "2\n",
      "Fizz\n",
      "4\n",
      "Buzz\n",
      "Fizz\n",
      "7\n",
      "8\n",
      "Fizz\n",
      "Buzz\n",
      "11\n",
      "Fizz\n",
      "13\n",
      "14\n",
      "FizzBuzz\n"
     ]
    }
   ],
   "source": [
    "def fizzBuzz(n):\n",
    "    # Write your code here\n",
    "    for i in range(1, n+1):\n",
    "        if i%3 == 0 and i%5 == 0:\n",
    "            print('FizzBuzz')\n",
    "        elif i%3 == 0:\n",
    "            print('Fizz')\n",
    "        elif i%5 == 0:\n",
    "            print('Buzz')\n",
    "        else:\n",
    "            print(i)\n",
    "\n",
    "if __name__ == '__main__':\n",
    "    n = int(input().strip())\n",
    "\n",
    "    fizzBuzz(n)\n"
   ]
  },
  {
   "cell_type": "code",
   "execution_count": 117,
   "metadata": {},
   "outputs": [],
   "source": [
    "vec = 'vector'"
   ]
  },
  {
   "cell_type": "code",
   "execution_count": 119,
   "metadata": {},
   "outputs": [
    {
     "data": {
      "text/plain": [
       "['col___vector0',\n",
       " 'col___vector1',\n",
       " 'col___vector2',\n",
       " 'col___vector3',\n",
       " 'col___vector4',\n",
       " 'col___vector5',\n",
       " 'col___vector6',\n",
       " 'col___vector7',\n",
       " 'col___vector8',\n",
       " 'col___vector9']"
      ]
     },
     "execution_count": 119,
     "metadata": {},
     "output_type": "execute_result"
    }
   ],
   "source": [
    "['col' + f\"___{vec}\" +\n",
    "                                          str(c) for c in\n",
    "                                          range(10)]"
   ]
  },
  {
   "cell_type": "code",
   "execution_count": null,
   "metadata": {},
   "outputs": [],
   "source": []
  }
 ],
 "metadata": {
  "kernelspec": {
   "display_name": "Python 3",
   "language": "python",
   "name": "python3"
  },
  "language_info": {
   "codemirror_mode": {
    "name": "ipython",
    "version": 3
   },
   "file_extension": ".py",
   "mimetype": "text/x-python",
   "name": "python",
   "nbconvert_exporter": "python",
   "pygments_lexer": "ipython3",
   "version": "3.7.9"
  }
 },
 "nbformat": 4,
 "nbformat_minor": 4
}
